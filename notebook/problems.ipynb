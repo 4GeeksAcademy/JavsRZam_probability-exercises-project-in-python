{
 "cells": [
  {
   "cell_type": "markdown",
   "id": "a41f3622",
   "metadata": {},
   "source": [
    "# Probability exercises"
   ]
  },
  {
   "cell_type": "markdown",
   "id": "a6bdbd89",
   "metadata": {},
   "source": [
    "## Exercise 1 \n",
    "\n",
    "Two dices are thrown once and the total score is observed. Use a simulation to find the estimated probability that the total score is even or greater than 7.  A simulation is a repetition of the same experiment multiple times to observe its behavior:\n",
    "\n",
    "- Run the experiment 1000 times (roll 2 dice 1000 times, and sum the number of both dices).\n",
    "- Keep track of the number of times that the sum was either greater than 7 or an even number.\n",
    "- Divide the number from step 2 by the number of iterations (1000)."
   ]
  },
  {
   "cell_type": "code",
   "execution_count": 44,
   "id": "8939d892",
   "metadata": {},
   "outputs": [
    {
     "name": "stdout",
     "output_type": "stream",
     "text": [
      "14214\n",
      "678\n",
      "The probability of having an even number or greater than 7 is: 67.80%\n"
     ]
    }
   ],
   "source": [
    "# TODO\n",
    "import random\n",
    "import pandas as pd\n",
    "import numpy as np\n",
    "\n",
    "\n",
    "\n",
    "def Roll():\n",
    "    Roll1 = random.randint(1,6)\n",
    "    Roll2 = random.randint(1,6)\n",
    "    Sums = Roll1 + Roll2\n",
    "    return Sums\n",
    "\n",
    "Sum = 0\n",
    "Track = 0\n",
    "Tiradas = 1000\n",
    "\n",
    "for i in range(Tiradas):\n",
    "    Tirada = Roll()\n",
    "    Sum = Sum + Tirada\n",
    "    if Tirada % 2 == 0:\n",
    "        Track += 1\n",
    "    elif (Tirada > 7):\n",
    "        Track += 1\n",
    "        \n",
    "    Sum = Sum + Tirada\n",
    "\n",
    "\n",
    "print(Sum)\n",
    "print (Track)\n",
    "print(f'The probability of having an even number or greater than 7 is: {Track/Tiradas*100:.2f}%')"
   ]
  },
  {
   "cell_type": "markdown",
   "id": "55732bca",
   "metadata": {},
   "source": [
    "## Exercise 2\n",
    "\n",
    "A box contains 10 white balls, 20 red balls and 30 green balls. If we take 5 balls from the box with replacement (we take the ball, observe what color it is and put it back into the box). We want to know the probability of:\n",
    "\n",
    "1. Take 3 white and 2 red.\n",
    "2. Take all of the same color.\n",
    "\n",
    "Run the experiment 1000 times and calculate the above probabilities."
   ]
  },
  {
   "cell_type": "code",
   "execution_count": 21,
   "id": "23244d20",
   "metadata": {},
   "outputs": [
    {
     "name": "stdout",
     "output_type": "stream",
     "text": [
      "{0: 'White', 1: 'White', 2: 'White', 3: 'White', 4: 'White', 5: 'White', 6: 'White', 7: 'White', 8: 'White', 9: 'White', 10: 'Red', 11: 'Red', 12: 'Red', 13: 'Red', 14: 'Red', 15: 'Red', 16: 'Red', 17: 'Red', 18: 'Red', 19: 'Red', 20: 'Red', 21: 'Red', 22: 'Red', 23: 'Red', 24: 'Red', 25: 'Red', 26: 'Red', 27: 'Red', 28: 'Red', 29: 'Red', 30: 'Green', 31: 'Green', 32: 'Green', 33: 'Green', 34: 'Green', 35: 'Green', 36: 'Green', 37: 'Green', 38: 'Green', 39: 'Green', 40: 'Green', 41: 'Green', 42: 'Green', 43: 'Green', 44: 'Green', 45: 'Green', 46: 'Green', 47: 'Green', 48: 'Green', 49: 'Green', 50: 'Green', 51: 'Green', 52: 'Green', 53: 'Green', 54: 'Green', 55: 'Green', 56: 'Green', 57: 'Green', 58: 'Green', 59: 'Green'}\n",
      "La probabilidad de que se obtengan 3 blancas y 2 rojas es: 0.30%\n",
      "La probabilidad de que se obtengan las mismas bolas es: 2.80%\n"
     ]
    }
   ],
   "source": [
    "import random\n",
    "ball_box = {}\n",
    "\n",
    "# Create the box of balls\n",
    "for i in range(60):\n",
    "    if i < 10:\n",
    "        ball_box[i] = \"White\"\n",
    "    elif (i > 9) and (i < 30):\n",
    "        ball_box[i] = \"Red\"\n",
    "    else:\n",
    "        ball_box[i] = \"Green\"\n",
    "\n",
    "print(ball_box)\n",
    "\n",
    "Num_Experiments = 1000\n",
    "Balls_drawn = 5\n",
    "\n",
    "CountCond1 = 0\n",
    "CountSame = 0\n",
    "CountTotal = 0\n",
    "\n",
    "for _ in range(Num_Experiments):\n",
    "    draws = [ball_box[random.randint(0, 59)] for _ in range(Balls_drawn)]\n",
    "\n",
    "    white = draws.count(\"White\")\n",
    "    red = draws.count(\"Red\")\n",
    "    green = draws.count(\"Green\")\n",
    "    \n",
    "    if white == 3 and red == 2:\n",
    "        CountCond1 += 1\n",
    "    \n",
    "    if white == 5 or red == 5 or green == 5:\n",
    "        CountSame += 1\n",
    "    \n",
    "    CountTotal += 1\n",
    "\n",
    "ProbCond1 = CountCond1 / Num_Experiments\n",
    "ProbSame = CountSame / Num_Experiments\n",
    "\n",
    "print(f'La probabilidad de que se obtengan 3 blancas y 2 rojas es: {ProbCond1*100:.2f}%')\n",
    "print(f'La probabilidad de que se obtengan las mismas bolas es: {ProbSame*100:.2f}%')\n",
    "\n",
    "\n",
    "    \n",
    "# TODO"
   ]
  }
 ],
 "metadata": {
  "kernelspec": {
   "display_name": "Python 3",
   "language": "python",
   "name": "python3"
  },
  "language_info": {
   "codemirror_mode": {
    "name": "ipython",
    "version": 3
   },
   "file_extension": ".py",
   "mimetype": "text/x-python",
   "name": "python",
   "nbconvert_exporter": "python",
   "pygments_lexer": "ipython3",
   "version": "3.11.4"
  }
 },
 "nbformat": 4,
 "nbformat_minor": 5
}
